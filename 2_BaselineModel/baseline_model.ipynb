{
 "cells": [
  {
   "cell_type": "markdown",
   "metadata": {},
   "source": [
    "# Baseline Model\n",
    "\n",
    "## Table of Contents\n",
    "1. [Model Choice](#model-choice)\n",
    "2. [Feature Selection](#feature-selection)\n",
    "3. [Implementation](#implementation)\n",
    "4. [Evaluation](#evaluation)\n"
   ]
  },
  {
   "cell_type": "code",
   "execution_count": null,
   "metadata": {},
   "outputs": [],
   "source": [
    "from tensorflow.keras.applications import ResNet152V2\n",
    "from tensorflow.keras.layers import Dense, GlobalAveragePooling2D\n",
    "from tensorflow.keras.models import Model\n",
    "from tensorflow.keras import preprocessing\n",
    "import numpy as np\n",
    "\n",
    "BATCHSIZE = 32\n",
    "EPOCHS = 1\n"
   ]
  },
  {
   "cell_type": "markdown",
   "metadata": {},
   "source": [
    "## Model Choice\n",
    "\n",
    "At the basis of my idea is a simple image detection problem, so I chose an already trained and established model for this task as baseline: ResNet152V2.\n",
    "\n",
    "As baseline I just use the ResNet model without its top layer and just add an appropriate one for the task with 4 nodes. Just one epoch to train the weights for the second to the last layer.\n"
   ]
  },
  {
   "cell_type": "markdown",
   "metadata": {},
   "source": [
    "## Feature Selection\n",
    "\n",
    "The Dataset I am using offers only 4 categories of data:\n",
    "- Eosinophil\n",
    "- Lymphocyte\n",
    "- Monocyte\n",
    "- Neutrophil\n",
    "\n",
    "I will use all 4 categories.\n"
   ]
  },
  {
   "cell_type": "code",
   "execution_count": null,
   "metadata": {},
   "outputs": [],
   "source": [
    "# use keras.preprocessing.image_dataset_from_directory to load images from ./TRAIN, split 80/20 for testing\n",
    "train_data = preprocessing.image_dataset_from_directory(\n",
    "    '../1_DatasetCharacteristics/train/',\n",
    "    validation_split=0.2,\n",
    "    subset='training',\n",
    "    seed=123,\n",
    ")\n",
    "\n",
    "test_data = preprocessing.image_dataset_from_directory(\n",
    "    '../1_DatasetCharacteristics/train/',\n",
    "    validation_split=0.2,\n",
    "    subset='validation',\n",
    "    seed=123\n",
    ")\n"
   ]
  },
  {
   "cell_type": "markdown",
   "metadata": {},
   "source": [
    "## Implementation\n",
    "\n",
    "Implementation of the base ResNet152 Model, with minimal changes for the specified task. "
   ]
  },
  {
   "cell_type": "code",
   "execution_count": null,
   "metadata": {},
   "outputs": [],
   "source": [
    "# load the ResNet152V2 model\n",
    "base_model = ResNet152V2(weights='imagenet', include_top=False)\n",
    "\n",
    "# add new top layers\n",
    "x = base_model.output\n",
    "x = GlobalAveragePooling2D()(x)\n",
    "predictions = Dense(4, activation='softmax')(x)\n",
    "\n",
    "# create the new model\n",
    "model = Model(inputs=base_model.input, outputs=predictions)\n",
    "\n",
    "# freeze the base model layers\n",
    "for layer in base_model.layers:\n",
    "    layer.trainable = False\n",
    "\n",
    "# compile the model\n",
    "model.compile(optimizer='adam', loss='sparse_categorical_crossentropy', metrics = ['accuracy'])\n",
    "\n",
    "# print model summary\n",
    "model.summary()\n",
    "\n",
    "# train the model\n",
    "model.fit(train_data, epochs=EPOCHS, batch_size = BATCHSIZE)"
   ]
  },
  {
   "cell_type": "markdown",
   "metadata": {},
   "source": [
    "## Evaluation\n",
    "\n",
    "The model will be judged by the accuracy of the predictions. \n",
    "\n",
    "After around 10 different trainings, the accuracy was around 28%."
   ]
  },
  {
   "cell_type": "code",
   "execution_count": null,
   "metadata": {},
   "outputs": [],
   "source": [
    "predictions = model.predict(test_data)\n",
    "predictions = np.argmax(predictions, axis=1)\n",
    "actual = np.concatenate([y for x, y in test_data], axis=0)\n",
    "print(predictions)\n",
    "print(actual)\n",
    "\n",
    "# calculate accuracy\n",
    "accuracy = np.mean(predictions == actual)\n",
    "print(f'Accuracy: {accuracy}')\n",
    "\n",
    "#save accuracy to file\n",
    "with open('baseline-accuracy.txt', 'w') as f:\n",
    "    f.write(f'Accuracy: {accuracy}')\n"
   ]
  }
 ],
 "metadata": {
  "language_info": {
   "name": "python"
  }
 },
 "nbformat": 4,
 "nbformat_minor": 2
}
