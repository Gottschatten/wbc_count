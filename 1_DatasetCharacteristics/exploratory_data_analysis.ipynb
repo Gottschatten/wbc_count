{
 "cells": [
  {
   "cell_type": "markdown",
   "metadata": {},
   "source": [
    "# Exploratory Data Analysis (EDA)\n",
    "\n",
    "## Table of Contents\n",
    "1. [Dataset Overview](#dataset-overview)\n",
    "2. [Handling Missing Values](#handling-missing-values)\n",
    "3. [Feature Distributions](#feature-distributions)\n",
    "4. [Possible Biases](#possible-biases)\n",
    "5. [Correlations](#correlations)\n"
   ]
  },
  {
   "cell_type": "code",
   "execution_count": 2,
   "metadata": {},
   "outputs": [],
   "source": [
    "# Import necessary libraries\n",
    "import matplotlib.pyplot as plt\n",
    "import numpy as np\n",
    "import pandas as pd\n",
    "import seaborn as sns\n",
    "import os\n",
    "import shutil\n",
    "from zipfile import ZipFile"
   ]
  },
  {
   "cell_type": "markdown",
   "metadata": {},
   "source": [
    "## Import Dataset from Kaggle\n",
    "\n",
    "Import over the Kaggle API, move files and clean up directory all in one. It is necessary because of the data limit of Github to have easy access to the data.\n",
    "\n",
    "**paultimothymooney/blood-cells** is the kaggle-repo"
   ]
  },
  {
   "cell_type": "code",
   "execution_count": 3,
   "metadata": {},
   "outputs": [
    {
     "name": "stdout",
     "output_type": "stream",
     "text": [
      "Dataset URL: https://www.kaggle.com/datasets/paultimothymooney/blood-cells\n",
      "License(s): other\n",
      "Downloading blood-cells.zip to /home/mmd/repos/wbc_count/1_DatasetCharacteristics\n"
     ]
    },
    {
     "name": "stderr",
     "output_type": "stream",
     "text": [
      "100%|██████████| 108M/108M [00:03<00:00, 34.8MB/s] \n"
     ]
    },
    {
     "name": "stdout",
     "output_type": "stream",
     "text": [
      "\n"
     ]
    }
   ],
   "source": [
    "# remove directories if they exist ./train/, labels.csv, blood-cells.zip, dataset2-master and dataset-master\n",
    "if os.path.exists('./train'):\n",
    "    shutil.rmtree('./train')\n",
    "if os.path.exists('./labels.csv'):\n",
    "      os.remove('./labels.csv')\n",
    "if os.path.exists('./blood-cells.zip'):\n",
    "      os.remove('./blood-cells.zip')\n",
    "if os.path.exists('./dataset2-master'):\n",
    "      shutil.rmtree('./dataset2-master')\n",
    "if os.path.exists('./dataset-master'):\n",
    "      shutil.rmtree('./dataset-master')\n",
    "\n",
    "\n",
    "\n",
    "# download dataset from kaggle\n",
    "os.system('kaggle datasets download -d paultimothymooney/blood-cells')\n",
    "\n",
    "# extract dataset\n",
    "with ZipFile('blood-cells.zip', 'r') as zipObj:\n",
    "   # Extract all the contents of zip file in current directory\n",
    "   zipObj.extractall()\n",
    "\n",
    "\n",
    "\n",
    "# mv direcory  ./dataset2-master/images/TRAIN to ./train\n",
    "os.rename('./dataset2-master/dataset2-master/images/TRAIN', './train')\n",
    "# mv ./dataset-master/lables.csv to ./labels.csv\n",
    "os.rename('./dataset-master/dataset-master/labels.csv', './labels.csv')\n",
    "\n",
    "# rename sub directories in ./train to lowercase\n",
    "dirs = os.listdir('./train/')\n",
    "for d in dirs:\n",
    "    os.rename('./train/' + d, './train/' + d.lower())\n",
    "\n",
    "# remove the zip file and datasets\n",
    "os.remove('blood-cells.zip')\n",
    "shutil.rmtree('./dataset-master')\n",
    "shutil.rmtree('./dataset2-master')\n"
   ]
  },
  {
   "cell_type": "markdown",
   "metadata": {},
   "source": [
    "## Dataset Overview\n",
    "\n",
    "[Provide a high-level overview of the dataset. This should include the source of the dataset, the number of samples, the number of features, and example showing the structure of the dataset.]\n"
   ]
  },
  {
   "cell_type": "code",
   "execution_count": 4,
   "metadata": {},
   "outputs": [
    {
     "name": "stdout",
     "output_type": "stream",
     "text": [
      "(411, 2)\n"
     ]
    },
    {
     "data": {
      "image/png": "[encoded data removed]",
      "text/plain": [
       "<Figure size 1200x800 with 1 Axes>"
      ]
     },
     "metadata": {},
     "output_type": "display_data"
    }
   ],
   "source": [
    "# clean up directory\n",
    "if os.path.exists('distribution.png'):\n",
    "    os.remove('distribution.png')\n",
    "if os.path.exists('distribution_num.png'):\n",
    "    os.remove('distribution_num.png')\n",
    "\n",
    "\n",
    "# Load data\n",
    "data = pd.read_csv('labels.csv')\n",
    "\n",
    "# remove unnamed column\n",
    "data = data.drop('Unnamed: 0', axis=1)\n",
    "\n",
    "# display the shape of the data\n",
    "print(data.shape)\n",
    "\n",
    "# display the first few rows of the data and the structure of the data\n",
    "\n",
    "# plot the distribution of 'Image' for 'Category'\n",
    "plt.figure(figsize=(12, 8))\n",
    "sns.countplot(data['Category'])\n",
    "plt.title('Distribution of Categories')\n",
    "# save the plot\n",
    "plt.savefig('distribution.png')\n",
    "\n",
    "# get the list of directories in ./train/\n",
    "cells = {'neutrophil': 0, 'eosinophil': 0, 'lymphocyte': 0, 'monocyte': 0}\n",
    "dirs = os.listdir('./train/')\n",
    "for d in dirs:\n",
    "    if d in cells.keys():\n",
    "        cells[d] = len(os.listdir('./train/' + d))\n",
    "\n",
    "# plot the distribution of the number of images in each category\n",
    "sns.barplot(x=list(cells.keys()), y=list(cells.values()))\n",
    "plt.ylim(2300, 2500)\n",
    "plt.title('Distribution of the Number of Images in Each Category')\n",
    "# save the plot\n",
    "plt.savefig('distribution_num.png')\n"
   ]
  },
  {
   "cell_type": "markdown",
   "metadata": {},
   "source": [
    "### The Dataset contains 400 original images with the distribution looking like this:\n",
    "![Distributions of Categories](./distribution.png)\n",
    "\n",
    "### The Dataset also has already prepared data which reduces the categories to 4 and already increased numbers with in place changes like rotations or flips\n",
    "![Distribution of Images](./distribution_num.png)"
   ]
  },
  {
   "cell_type": "markdown",
   "metadata": {},
   "source": [
    "## Handling Missing Values\n",
    "\n",
    "[Identify any missing values in the dataset, and describe your approach to handle them if there are any. If there are no missing values simply indicate that there are none.]\n"
   ]
  },
  {
   "cell_type": "code",
   "execution_count": 5,
   "metadata": {},
   "outputs": [
    {
     "ename": "NameError",
     "evalue": "name 'df' is not defined",
     "output_type": "error",
     "traceback": [
      "\u001b[0;31m---------------------------------------------------------------------------\u001b[0m",
      "\u001b[0;31mNameError\u001b[0m                                 Traceback (most recent call last)",
      "Cell \u001b[0;32mIn[5], line 2\u001b[0m\n\u001b[1;32m      1\u001b[0m \u001b[38;5;66;03m# Check for missing values\u001b[39;00m\n\u001b[0;32m----> 2\u001b[0m missing_values \u001b[38;5;241m=\u001b[39m \u001b[43mdf\u001b[49m\u001b[38;5;241m.\u001b[39misnull()\u001b[38;5;241m.\u001b[39msum()\n\u001b[1;32m      3\u001b[0m missing_values\n",
      "\u001b[0;31mNameError\u001b[0m: name 'df' is not defined"
     ]
    }
   ],
   "source": [
    "# Check for missing values\n",
    "missing_values = df.isnull().sum()\n",
    "missing_values\n"
   ]
  },
  {
   "cell_type": "code",
   "execution_count": null,
   "metadata": {},
   "outputs": [],
   "source": [
    "# Handling missing values\n",
    "# Example: Replacing NaN values with the mean value of the column\n",
    "# df.fillna(df.mean(), inplace=True)\n",
    "\n",
    "# Your code for handling missing values goes here\n"
   ]
  },
  {
   "cell_type": "markdown",
   "metadata": {},
   "source": [
    "## Feature Distributions\n",
    "\n",
    "[Plot the distribution of various features and target variables. Comment on the skewness, outliers, or any other observations.]\n"
   ]
  },
  {
   "cell_type": "code",
   "execution_count": null,
   "metadata": {},
   "outputs": [],
   "source": [
    "# Example: Plotting histograms of all numerical features\n",
    "df.hist(figsize=(12, 12))\n",
    "plt.show()\n"
   ]
  },
  {
   "cell_type": "markdown",
   "metadata": {},
   "source": [
    "## Possible Biases\n",
    "\n",
    "[Investigate the dataset for any biases that could affect the model’s performance and fairness (e.g., class imbalance, historical biases).]\n"
   ]
  },
  {
   "cell_type": "code",
   "execution_count": null,
   "metadata": {},
   "outputs": [],
   "source": [
    "# Example: Checking for class imbalance in a classification problem\n",
    "# sns.countplot(x='target_variable', data=df)\n",
    "\n",
    "# Your code to investigate possible biases goes here\n"
   ]
  },
  {
   "cell_type": "markdown",
   "metadata": {},
   "source": [
    "## Correlations\n",
    "\n",
    "[Explore correlations between features and the target variable, as well as among features themselves.]\n"
   ]
  },
  {
   "cell_type": "code",
   "execution_count": null,
   "metadata": {},
   "outputs": [],
   "source": [
    "# Example: Plotting a heatmap to show feature correlations\n",
    "correlation_matrix = df.corr()\n",
    "sns.heatmap(correlation_matrix, annot=True)\n",
    "plt.show()\n"
   ]
  }
 ],
 "metadata": {
  "kernelspec": {
   "display_name": "Python 3",
   "language": "python",
   "name": "python3"
  },
  "language_info": {
   "codemirror_mode": {
    "name": "ipython",
    "version": 3
   },
   "file_extension": ".py",
   "mimetype": "text/x-python",
   "name": "python",
   "nbconvert_exporter": "python",
   "pygments_lexer": "ipython3",
   "version": "3.9.18"
  }
 },
 "nbformat": 4,
 "nbformat_minor": 2
}
